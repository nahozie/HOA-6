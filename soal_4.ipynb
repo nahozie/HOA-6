{
  "nbformat": 4,
  "nbformat_minor": 0,
  "metadata": {
    "colab": {
      "provenance": [],
      "mount_file_id": "1VVtE9koMd8REfXYK0o8mWP22iquyTJuw",
      "authorship_tag": "ABX9TyNKmHJLtZKGRBSUvnkadlgW",
      "include_colab_link": true
    },
    "kernelspec": {
      "name": "python3",
      "display_name": "Python 3"
    },
    "language_info": {
      "name": "python"
    }
  },
  "cells": [
    {
      "cell_type": "markdown",
      "metadata": {
        "id": "view-in-github",
        "colab_type": "text"
      },
      "source": [
        "<a href=\"https://colab.research.google.com/github/nahozie/HOA-6/blob/main/soal_4.ipynb\" target=\"_parent\"><img src=\"https://colab.research.google.com/assets/colab-badge.svg\" alt=\"Open In Colab\"/></a>"
      ]
    },
    {
      "cell_type": "markdown",
      "source": [
        "4A"
      ],
      "metadata": {
        "id": "nIZmVG4sBozy"
      }
    },
    {
      "cell_type": "code",
      "execution_count": 8,
      "metadata": {
        "id": "Q_FpfTB394T5"
      },
      "outputs": [],
      "source": [
        "import pandas as pd\n",
        "from IPython.display import display"
      ]
    },
    {
      "cell_type": "code",
      "source": [
        "df = pd.read_csv('/WA_Fn-UseC_-Telco-Customer-Churn.csv')"
      ],
      "metadata": {
        "id": "7gdYv8Fh-Hzi"
      },
      "execution_count": 2,
      "outputs": []
    },
    {
      "cell_type": "code",
      "source": [
        "filtered_data = df[df['PaymentMethod']=='Electronic check']\n",
        "highest_total_charges= filtered_data.sort_values(by='TotalCharges', ascending=False).head(1)\n",
        "\n",
        "pd.set_option('display.max_columns', None)\n",
        "pd.set_option('display.width', 1000)\n",
        "\n",
        "print (highest_total_charges)"
      ],
      "metadata": {
        "colab": {
          "base_uri": "https://localhost:8080/"
        },
        "id": "yKiNWC0U_Ute",
        "outputId": "51c74bc7-a868-495e-896a-a3d8e2b811a8"
      },
      "execution_count": 9,
      "outputs": [
        {
          "output_type": "stream",
          "name": "stdout",
          "text": [
            "      customerID  gender  SeniorCitizen Partner Dependents  tenure PhoneService MultipleLines InternetService OnlineSecurity OnlineBackup DeviceProtection TechSupport StreamingTV StreamingMovies        Contract PaperlessBilling     PaymentMethod  MonthlyCharges TotalCharges Churn\n",
            "2845  9093-FPDLG  Female              0      No         No      11          Yes            No     Fiber optic             No          Yes              Yes         Yes          No             Yes  Month-to-month              Yes  Electronic check            94.2        999.9    No\n"
          ]
        }
      ]
    },
    {
      "cell_type": "markdown",
      "source": [
        "4B"
      ],
      "metadata": {
        "id": "1sPRqCjoBs0c"
      }
    },
    {
      "cell_type": "code",
      "source": [
        "filtered_data_2 = df[df['tenure'] > 6]\n",
        "tenur_6 = filtered_data_2.sort_values(by='MonthlyCharges', ascending=False).head(5)\n",
        "\n",
        "\n",
        "pd.set_option('display.max_columns', None)\n",
        "pd.set_option('display.width', 1000)\n",
        "\n",
        "print(tenur_6)\n",
        "\n",
        "print(\"\\nStatistika Deskriptif dari Data yang Difilter:\")\n",
        "monthly_charges_stats = filtered_data_2['MonthlyCharges'].describe()\n",
        "print(monthly_charges_stats)"
      ],
      "metadata": {
        "colab": {
          "base_uri": "https://localhost:8080/"
        },
        "id": "LRVR7sXcBuSi",
        "outputId": "b506fde8-3d1d-4e46-c788-24bbccff2758"
      },
      "execution_count": 18,
      "outputs": [
        {
          "output_type": "stream",
          "name": "stdout",
          "text": [
            "      customerID  gender  SeniorCitizen Partner Dependents  tenure PhoneService MultipleLines InternetService OnlineSecurity OnlineBackup DeviceProtection TechSupport StreamingTV StreamingMovies  Contract PaperlessBilling              PaymentMethod  MonthlyCharges TotalCharges Churn\n",
            "4586  7569-NMZYQ  Female              0     Yes        Yes      72          Yes           Yes     Fiber optic            Yes          Yes              Yes         Yes         Yes             Yes  Two year              Yes  Bank transfer (automatic)          118.75      8672.45    No\n",
            "2115  8984-HPEMB  Female              0      No         No      71          Yes           Yes     Fiber optic            Yes          Yes              Yes         Yes         Yes             Yes  Two year              Yes           Electronic check          118.65       8477.6    No\n",
            "4804  5734-EJKXG  Female              0      No         No      61          Yes           Yes     Fiber optic            Yes          Yes              Yes         Yes         Yes             Yes  One year              Yes           Electronic check          118.60       7365.7    No\n",
            "3894  5989-AXPUC  Female              0     Yes         No      68          Yes           Yes     Fiber optic            Yes          Yes              Yes         Yes         Yes             Yes  Two year               No               Mailed check          118.60      7990.05    No\n",
            "5127  8199-ZLLSA    Male              0      No         No      67          Yes           Yes     Fiber optic            Yes          Yes              Yes         Yes         Yes             Yes  One year              Yes  Bank transfer (automatic)          118.35      7804.15   Yes\n",
            "\n",
            "Statistika Deskriptif dari Data yang Difilter:\n",
            "count    5562.000000\n",
            "mean       67.430538\n",
            "std        30.565826\n",
            "min        18.250000\n",
            "25%        40.350000\n",
            "50%        74.450000\n",
            "75%        93.787500\n",
            "max       118.750000\n",
            "Name: MonthlyCharges, dtype: float64\n"
          ]
        }
      ]
    },
    {
      "cell_type": "markdown",
      "source": [
        "4C"
      ],
      "metadata": {
        "id": "cs3lEC6eJ-me"
      }
    },
    {
      "cell_type": "code",
      "source": [
        "filtered_customers = df[(df['Churn'] == 'Yes') & (df['tenure'] > 48)]\n",
        "\n",
        "result = filtered_customers[['customerID', 'gender', 'tenure', 'Churn']]\n",
        "\n",
        "if  len(result) > 0:\n",
        "    print(\"Terdapat pelanggan yang Churn = 'Yes' dan Tenure > 48 bulan.\")\n",
        "    print(result)\n",
        "else:\n",
        "    print(\"Tidak terdapat pelanggan yang Churn = 'Yes' dan Tenure > 48 bulan.\")"
      ],
      "metadata": {
        "colab": {
          "base_uri": "https://localhost:8080/"
        },
        "id": "mZCRWLh7J_mD",
        "outputId": "338733d9-0b92-4b7c-d6e8-b6c2fa16c5d6"
      },
      "execution_count": 17,
      "outputs": [
        {
          "output_type": "stream",
          "name": "stdout",
          "text": [
            "Terdapat pelanggan yang Churn = 'Yes' dan Tenure > 48 bulan.\n",
            "      customerID  gender  tenure Churn\n",
            "13    0280-XJGEX    Male      49   Yes\n",
            "104   3192-NQECA    Male      68   Yes\n",
            "110   0486-HECZI    Male      55   Yes\n",
            "168   3445-HXXGF    Male      58   Yes\n",
            "173   0691-JVSYA  Female      53   Yes\n",
            "...          ...     ...     ...   ...\n",
            "6926  1450-SKCVI  Female      56   Yes\n",
            "6945  6797-LNAQX    Male      70   Yes\n",
            "6972  6664-FPDAC  Female      56   Yes\n",
            "6993  6583-QGCSI  Female      50   Yes\n",
            "7034  0639-TSIQW  Female      67   Yes\n",
            "\n",
            "[213 rows x 4 columns]\n"
          ]
        }
      ]
    }
  ]
}